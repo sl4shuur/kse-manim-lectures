{
 "cells": [
  {
   "cell_type": "code",
   "execution_count": 1,
   "id": "f7159b21",
   "metadata": {},
   "outputs": [
    {
     "name": "stdout",
     "output_type": "stream",
     "text": [
      "0.19.0\n"
     ]
    }
   ],
   "source": [
    "import manim as mn\n",
    "from manim import *\n",
    "from notebooks_config import UkrainianTexTemplate\n",
    "\n",
    "config.media_width = \"75%\"\n",
    "config.verbosity = \"WARNING\"\n",
    "\n",
    "print(mn.__version__)"
   ]
  },
  {
   "cell_type": "code",
   "execution_count": 4,
   "id": "e8be5d45",
   "metadata": {},
   "outputs": [
    {
     "name": "stdout",
     "output_type": "stream",
     "text": [
      "TexTemplate(_body='', tex_compiler='xelatex', description='Ukrainian TeX Template', output_format='.xdv', documentclass='\\\\documentclass[preview]{standalone}', preamble='\\n    \\\\usepackage{fontspec}\\n    \\\\usepackage{babel}\\n    \\\\babelprovide[import, main]{ukrainian}\\n    \\\\setmainfont{DejaVu Serif}\\n    \\\\usepackage{amsmath, amssymb}\\n    ', placeholder_text='YourTextHere', post_doc_commands='')\n",
      "<class 'manim.utils.tex.TexTemplate'>\n",
      "\\usepackage[english]{babel}\n",
      "\\usepackage{amsmath}\n",
      "\\usepackage{amssymb}\n"
     ]
    }
   ],
   "source": [
    "print(UkrainianTexTemplate)\n",
    "print(type(UkrainianTexTemplate))\n",
    "print(mn.TexTemplate.preamble)"
   ]
  },
  {
   "cell_type": "code",
   "execution_count": null,
   "id": "16c8ba54",
   "metadata": {},
   "outputs": [],
   "source": []
  }
 ],
 "metadata": {
  "kernelspec": {
   "display_name": "kse-manim-lectures",
   "language": "python",
   "name": "python3"
  },
  "language_info": {
   "codemirror_mode": {
    "name": "ipython",
    "version": 3
   },
   "file_extension": ".py",
   "mimetype": "text/x-python",
   "name": "python",
   "nbconvert_exporter": "python",
   "pygments_lexer": "ipython3",
   "version": "3.13.7"
  }
 },
 "nbformat": 4,
 "nbformat_minor": 5
}
