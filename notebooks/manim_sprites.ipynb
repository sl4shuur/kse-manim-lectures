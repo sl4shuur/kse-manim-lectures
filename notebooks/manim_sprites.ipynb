{
 "cells": [
  {
   "cell_type": "code",
   "execution_count": 1,
   "id": "f7159b21",
   "metadata": {},
   "outputs": [
    {
     "name": "stdout",
     "output_type": "stream",
     "text": [
      "0.19.0\n"
     ]
    }
   ],
   "source": [
    "import manim as mn\n",
    "from manim import *\n",
    "from notebooks_config import UkrainianTexTemplate, ManimSprite\n",
    "\n",
    "config.media_width = \"75%\"\n",
    "config.verbosity = \"WARNING\"\n",
    "\n",
    "print(mn.__version__)"
   ]
  },
  {
   "cell_type": "code",
   "execution_count": 2,
   "id": "e8be5d45",
   "metadata": {},
   "outputs": [
    {
     "name": "stdout",
     "output_type": "stream",
     "text": [
      "Manim Community \u001b[32mv0.\u001b[0m\u001b[32m19.0\u001b[0m\n",
      "\n"
     ]
    },
    {
     "name": "stderr",
     "output_type": "stream",
     "text": [
      "                                                                                     \r"
     ]
    },
    {
     "data": {
      "text/html": [
       "<video src=\"media\\jupyter\\AllSpritesAnimation@2025-09-21@20-57-30.mp4\" controls autoplay loop style=\"max-width: 75%;\"  >\n",
       "      Your browser does not support the <code>video</code> element.\n",
       "    </video>"
      ],
      "text/plain": [
       "<IPython.core.display.Video object>"
      ]
     },
     "metadata": {},
     "output_type": "display_data"
    }
   ],
   "source": [
    "%%manim -ql AllSpritesAnimation\n",
    "\n",
    "class AllSpritesAnimation(Scene):\n",
    "    def construct(self):\n",
    "        sprite_names = [\n",
    "            \"adventurer\",\n",
    "            # \"female\", # works bad with current poses\n",
    "            \"player\",\n",
    "            \"soldier\",\n",
    "            \"zombie\"\n",
    "        ]\n",
    "        poses = [\"01\", \"08\", \"14\", \"19\"]\n",
    "\n",
    "        for sprite_name in sprite_names:\n",
    "            sprite = ManimSprite(sprite_name, scale=3)\n",
    "            for i in range(len(poses)):\n",
    "                for j in range(len(poses)):\n",
    "                    if i < j:\n",
    "                        sprite.change_pose(poses[i])\n",
    "                        sprite.change_pose(poses[j])\n",
    "                        init_pose = sprite.old_manim_svgmobject\n",
    "                        cur_pose = sprite.cur_manim_svgmobject\n",
    "                        text = Text(\n",
    "                            f\"{sprite_name} Pose {poses[i]} to {poses[j]}\", font_size=12\n",
    "                        ).to_edge(UP)\n",
    "\n",
    "                        self.add(init_pose, text)\n",
    "                        self.play(Transform(init_pose, cur_pose))\n",
    "                        self.wait(0.5)\n",
    "                        self.clear()"
   ]
  },
  {
   "cell_type": "code",
   "execution_count": null,
   "id": "16c8ba54",
   "metadata": {},
   "outputs": [],
   "source": []
  }
 ],
 "metadata": {
  "kernelspec": {
   "display_name": "kse-manim-lectures",
   "language": "python",
   "name": "python3"
  },
  "language_info": {
   "codemirror_mode": {
    "name": "ipython",
    "version": 3
   },
   "file_extension": ".py",
   "mimetype": "text/x-python",
   "name": "python",
   "nbconvert_exporter": "python",
   "pygments_lexer": "ipython3",
   "version": "3.13.7"
  }
 },
 "nbformat": 4,
 "nbformat_minor": 5
}
